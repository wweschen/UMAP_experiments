{
 "cells": [
  {
   "cell_type": "code",
   "execution_count": 3,
   "metadata": {},
   "outputs": [],
   "source": [
    "import os\n",
    "import gensim\n",
    "\n",
    "\n",
    "path = os.path.join(\n",
    "        os.environ['HOME'],\n",
    "        'expire',\n",
    "        'GoogleNews-vectors-negative300.bin')\n",
    "model = gensim.models.KeyedVectors.load_word2vec_format(\n",
    "        path,\n",
    "        binary=True\n",
    "    )"
   ]
  },
  {
   "cell_type": "code",
   "execution_count": 15,
   "metadata": {},
   "outputs": [
    {
     "data": {
      "text/plain": [
       "0.5065850456386709"
      ]
     },
     "execution_count": 15,
     "metadata": {},
     "output_type": "execute_result"
    }
   ],
   "source": [
    "vec1=model['test'].tolist()\n",
    "vec2 =model['exam'].tolist()\n",
    "cosine_sim(vec1,vec2)"
   ]
  },
  {
   "cell_type": "code",
   "execution_count": 1,
   "metadata": {},
   "outputs": [
    {
     "ename": "NameError",
     "evalue": "name 'model' is not defined",
     "output_type": "error",
     "traceback": [
      "\u001b[0;31m---------------------------------------------------------------------------\u001b[0m",
      "\u001b[0;31mNameError\u001b[0m                                 Traceback (most recent call last)",
      "\u001b[0;32m<ipython-input-1-34dcf2f26466>\u001b[0m in \u001b[0;36m<module>\u001b[0;34m\u001b[0m\n\u001b[0;32m----> 1\u001b[0;31m \u001b[0mdata\u001b[0m \u001b[0;34m=\u001b[0m \u001b[0mmodel\u001b[0m\u001b[0;34m.\u001b[0m\u001b[0msyn0\u001b[0m\u001b[0;34m\u001b[0m\u001b[0m\n\u001b[0m\u001b[1;32m      2\u001b[0m \u001b[0mprint\u001b[0m\u001b[0;34m(\u001b[0m\u001b[0mdata\u001b[0m\u001b[0;34m.\u001b[0m\u001b[0mshape\u001b[0m\u001b[0;34m)\u001b[0m\u001b[0;34m\u001b[0m\u001b[0m\n",
      "\u001b[0;31mNameError\u001b[0m: name 'model' is not defined"
     ]
    }
   ],
   "source": [
    "data = model.syn0\n",
    "print(data.shape)"
   ]
  },
  {
   "cell_type": "code",
   "execution_count": 71,
   "metadata": {},
   "outputs": [],
   "source": [
    "import numpy as np\n",
    "num_points = 100000\n",
    "selected_index = np.random.choice(data.shape[0],size=num_points, replace=True)\n",
    "data = data[selected_index,:]\n",
    "words = np.array(model.index2word)[selected_index]"
   ]
  },
  {
   "cell_type": "code",
   "execution_count": null,
   "metadata": {},
   "outputs": [],
   "source": [
    "import umap\n",
    "fit = umap.UMAP(n_neighbors=15, random_state=42,n_components=10, metric='cosine')\n",
    "%time u = fit.fit(data)"
   ]
  },
  {
   "cell_type": "code",
   "execution_count": 49,
   "metadata": {},
   "outputs": [],
   "source": [
    "words= np.array(model.index2word)\n",
    "umap_embeddings=dict(zip(words,u))"
   ]
  },
  {
   "cell_type": "code",
   "execution_count": 69,
   "metadata": {},
   "outputs": [
    {
     "ename": "KeyError",
     "evalue": "'we'",
     "output_type": "error",
     "traceback": [
      "\u001b[0;31m---------------------------------------------------------------------------\u001b[0m",
      "\u001b[0;31mKeyError\u001b[0m                                  Traceback (most recent call last)",
      "\u001b[0;32m<ipython-input-69-67eaa59a587c>\u001b[0m in \u001b[0;36m<module>\u001b[0;34m\u001b[0m\n\u001b[0;32m----> 1\u001b[0;31m \u001b[0mumap_embeddings\u001b[0m\u001b[0;34m[\u001b[0m\u001b[0;34m'we'\u001b[0m\u001b[0;34m]\u001b[0m\u001b[0;34m\u001b[0m\u001b[0m\n\u001b[0m",
      "\u001b[0;31mKeyError\u001b[0m: 'we'"
     ]
    }
   ],
   "source": [
    "umap_embeddings['we']"
   ]
  },
  {
   "cell_type": "code",
   "execution_count": 56,
   "metadata": {},
   "outputs": [
    {
     "name": "stdout",
     "output_type": "stream",
     "text": [
      "squishing\n"
     ]
    },
    {
     "ename": "NameError",
     "evalue": "name 'u_vec1' is not defined",
     "output_type": "error",
     "traceback": [
      "\u001b[0;31m---------------------------------------------------------------------------\u001b[0m",
      "\u001b[0;31mNameError\u001b[0m                                 Traceback (most recent call last)",
      "\u001b[0;32m<ipython-input-56-5b99346af469>\u001b[0m in \u001b[0;36m<module>\u001b[0;34m\u001b[0m\n\u001b[1;32m     11\u001b[0m     \u001b[0;32mexcept\u001b[0m \u001b[0mException\u001b[0m \u001b[0;32mas\u001b[0m \u001b[0me\u001b[0m\u001b[0;34m:\u001b[0m\u001b[0;34m\u001b[0m\u001b[0m\n\u001b[1;32m     12\u001b[0m         \u001b[0mnext\u001b[0m\u001b[0;34m\u001b[0m\u001b[0m\n\u001b[0;32m---> 13\u001b[0;31m     \u001b[0mprint\u001b[0m\u001b[0;34m(\u001b[0m\u001b[0mword1\u001b[0m\u001b[0;34m,\u001b[0m\u001b[0mword2\u001b[0m\u001b[0;34m,\u001b[0m\u001b[0mval\u001b[0m\u001b[0;34m,\u001b[0m\u001b[0mcosine_sim\u001b[0m\u001b[0;34m(\u001b[0m\u001b[0mvec1\u001b[0m\u001b[0;34m,\u001b[0m \u001b[0mvec2\u001b[0m\u001b[0;34m)\u001b[0m\u001b[0;34m,\u001b[0m\u001b[0mcosine_sim\u001b[0m\u001b[0;34m(\u001b[0m\u001b[0mu_vec1\u001b[0m\u001b[0;34m,\u001b[0m \u001b[0mu_vec2\u001b[0m\u001b[0;34m)\u001b[0m\u001b[0;34m)\u001b[0m\u001b[0;34m\u001b[0m\u001b[0m\n\u001b[0m",
      "\u001b[0;31mNameError\u001b[0m: name 'u_vec1' is not defined"
     ]
    }
   ],
   "source": [
    "for line in open(\"data/word-sim/EN-RW-STANFORD.txt\"):\n",
    "    line = line.strip().lower()\n",
    "    word1, word2, val = line.split()\n",
    "    try:\n",
    "        vec1= model[word1].tolist()\n",
    "        vec2 = model[word2].tolist()\n",
    "        print(word1)\n",
    "        u_vec1 = umap_embeddings[word1] \n",
    "        u_vec2 = umap_embeddings[word2] \n",
    "        print(u_vec1)\n",
    "    except Exception as e:\n",
    "        next\n",
    "    print(word1,word2,val,cosine_sim(vec1, vec2),cosine_sim(u_vec1, u_vec2))"
   ]
  },
  {
   "cell_type": "code",
   "execution_count": 30,
   "metadata": {},
   "outputs": [
    {
     "name": "stdout",
     "output_type": "stream",
     "text": [
      "======================================================================================\n",
      "      Num Pairs       Not found             Rho            File name\n",
      "======================================================================================\n",
      "           3000              54          0.7610     EN-MEN-TR-3k.txt\n",
      "           3030               0          0.7441         EN-MC-30.txt\n",
      "           3801               0          0.5765     EN-MTurk-771.txt\n",
      "           4800               0          0.3350    EN-SIMLEX-999.txt\n",
      "           4944               9          0.3485      EN-VERB-143.txt\n",
      "           5074               0          0.3479        EN-YP-130.txt\n",
      "           7108             209          0.3175   EN-RW-STANFORD.txt\n",
      "           7173               0          0.3164         EN-RG-65.txt\n",
      "           7526               3          0.3204    EN-WS-353-ALL.txt\n",
      "           7729               1          0.3203    EN-WS-353-SIM.txt\n",
      "           7981               2          0.3203    EN-WS-353-REL.txt\n",
      "           8268              12          0.3393     EN-MTurk-287.txt\n"
     ]
    }
   ],
   "source": [
    "print ('======================================================================================')\n",
    "print (\"%15s\" % \"Num Pairs\", \"%15s\" % \"Not found\", \"%15s\" % \"Rho\",  \"%20s\" % \"File name\")\n",
    "print ('======================================================================================')\n",
    "\n",
    "word_sim_file=\"data/word-sim/EN-RW-STANFORD.txt\"\n",
    "word_sim_dir=\"data/word-sim\"\n",
    "manual_dict, auto_dict,reduced_dict = ({}, {},{})\n",
    "not_found, total_size = (0, 0)\n",
    "for i, filename in enumerate(os.listdir(word_sim_dir)):\n",
    "    not_found=0\n",
    "    for line in open(word_sim_dir+\"/\"+filename,'r'):\n",
    "        line = line.strip().lower()\n",
    "        word1, word2, val = line.split()\n",
    "        try:\n",
    "            vec1= model[word1].tolist()\n",
    "            vec2 = model[word2].tolist()\n",
    "        except Exception as e:\n",
    "            not_found+=1\n",
    "            next\n",
    "        d_vec1 = \n",
    "        d_vec2 =\n",
    "        manual_dict[(word1, word2)] = float(val)\n",
    "        auto_dict[(word1, word2)] = cosine_sim(vec1, vec2)\n",
    "\n",
    "        total_size += 1    \n",
    "    print ( \"%15s\" % str(total_size), \"%15s\" % str(not_found), \"%15.4f\" % spearmans_rho(assign_ranks(manual_dict), assign_ranks(auto_dict)), \"%20s\" % filename)\n"
   ]
  }
 ],
 "metadata": {
  "kernelspec": {
   "display_name": "Python 3",
   "language": "python",
   "name": "python3"
  },
  "language_info": {
   "codemirror_mode": {
    "name": "ipython",
    "version": 3
   },
   "file_extension": ".py",
   "mimetype": "text/x-python",
   "name": "python",
   "nbconvert_exporter": "python",
   "pygments_lexer": "ipython3",
   "version": "3.6.4"
  }
 },
 "nbformat": 4,
 "nbformat_minor": 4
}
