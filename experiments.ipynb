{
 "cells": [
  {
   "cell_type": "code",
   "execution_count": 1,
   "metadata": {},
   "outputs": [],
   "source": [
    "import os\n",
    "import gensim\n",
    "\n",
    "\n",
    "path = os.path.join('word2vec',\n",
    "        'GoogleNews-vectors-negative300.bin')\n",
    "model = gensim.models.KeyedVectors.load_word2vec_format(\n",
    "        path,\n",
    "        binary=True\n",
    "    )"
   ]
  },
  {
   "cell_type": "code",
   "execution_count": 2,
   "metadata": {},
   "outputs": [],
   "source": [
    "import math\n",
    "import numpy\n",
    "from operator import itemgetter\n",
    "from numpy.linalg import norm\n",
    "\n",
    "EPSILON = 1e-6\n",
    "\n",
    "def euclidean(vec1, vec2):\n",
    "  diff = vec1 - vec2\n",
    "  return math.sqrt(diff.dot(diff))\n",
    "\n",
    "def cosine_sim(vec1, vec2):\n",
    "  vec1 += EPSILON * numpy.ones(len(vec1))\n",
    "  vec2 += EPSILON * numpy.ones(len(vec1))\n",
    "  return vec1.dot(vec2)/(norm(vec1)*norm(vec2))\n",
    "\n",
    "def assign_ranks(item_dict):\n",
    "  ranked_dict = {}\n",
    "  sorted_list = [(key, val) for (key, val) in sorted(item_dict.items(),\n",
    "                                                     key=itemgetter(1),\n",
    "                                                     reverse=True)]\n",
    "  for i, (key, val) in enumerate(sorted_list):\n",
    "    same_val_indices = []\n",
    "    for j, (key2, val2) in enumerate(sorted_list):\n",
    "      if val2 == val:\n",
    "        same_val_indices.append(j+1)\n",
    "    if len(same_val_indices) == 1:\n",
    "      ranked_dict[key] = i+1\n",
    "    else:\n",
    "      ranked_dict[key] = 1.*sum(same_val_indices)/len(same_val_indices)\n",
    "  return ranked_dict\n",
    "\n",
    "def correlation(dict1, dict2):\n",
    "  avg1 = 1.*sum([val for key, val in dict1.iteritems()])/len(dict1)\n",
    "  avg2 = 1.*sum([val for key, val in dict2.iteritems()])/len(dict2)\n",
    "  numr, den1, den2 = (0., 0., 0.)\n",
    "  for val1, val2 in zip(dict1.itervalues(), dict2.itervalues()):\n",
    "    numr += (val1 - avg1) * (val2 - avg2)\n",
    "    den1 += (val1 - avg1) ** 2\n",
    "    den2 += (val2 - avg2) ** 2\n",
    "  return numr / math.sqrt(den1 * den2)\n",
    "\n",
    "def spearmans_rho(ranked_dict1, ranked_dict2):\n",
    "  assert len(ranked_dict1) == len(ranked_dict2)\n",
    "  if len(ranked_dict1) == 0 or len(ranked_dict2) == 0:\n",
    "    return 0.\n",
    "  x_avg = 1.*sum([val for val in ranked_dict1.values()])/len(ranked_dict1)\n",
    "  y_avg = 1.*sum([val for val in ranked_dict2.values()])/len(ranked_dict2)\n",
    "  num, d_x, d_y = (0., 0., 0.)\n",
    "  for key in ranked_dict1.keys():\n",
    "    xi = ranked_dict1[key]\n",
    "    yi = ranked_dict2[key]\n",
    "    num += (xi-x_avg)*(yi-y_avg)\n",
    "    d_x += (xi-x_avg)**2\n",
    "    d_y += (yi-y_avg)**2\n",
    "  return num/(math.sqrt(d_x*d_y))"
   ]
  },
  {
   "cell_type": "code",
   "execution_count": 3,
   "metadata": {},
   "outputs": [
    {
     "data": {
      "text/plain": [
       "0.5065850456386709"
      ]
     },
     "execution_count": 3,
     "metadata": {},
     "output_type": "execute_result"
    }
   ],
   "source": [
    "vec1=model['test'].tolist()\n",
    "vec2 =model['exam'].tolist()\n",
    "cosine_sim(vec1,vec2)"
   ]
  },
  {
   "cell_type": "code",
   "execution_count": 51,
   "metadata": {},
   "outputs": [
    {
     "name": "stdout",
     "output_type": "stream",
     "text": [
      "(3000000, 300)\n"
     ]
    }
   ],
   "source": [
    "data = model.vectors\n",
    "print(data.shape)"
   ]
  },
  {
   "cell_type": "code",
   "execution_count": 61,
   "metadata": {},
   "outputs": [],
   "source": [
    "import numpy as np\n",
    "num_points = 100000\n",
    "selected_index = np.random.choice(data.shape[0],size=num_points, replace=True)\n",
    "train_data = data[selected_index,:]\n",
    "words = np.array(model.index2word)[selected_index]"
   ]
  },
  {
   "cell_type": "code",
   "execution_count": 58,
   "metadata": {},
   "outputs": [],
   "source": [
    "def run_word_sim(model,u):\n",
    "    print ('======================================================================================')\n",
    "    print (\"%15s\" % \"Num Pairs\", \"%10s\" % \"Not found\", \"%15s\" % \"Word2Vec Rho\",  \"%15s\" % \"UMAPed Rho\", \"word2vec/umap\",\"File name\")\n",
    "    print ('======================================================================================')\n",
    "\n",
    "    word_sim_file=\"data/word-sim/EN-RW-STANFORD.txt\"\n",
    "    word_sim_dir=\"data/word-sim\"\n",
    "\n",
    "    for i, filename in enumerate(os.listdir(word_sim_dir)):\n",
    "        not_found, total_size = (0, 0)\n",
    "        manual_dict, auto_dict,reduced_dict = ({}, {},{})\n",
    "\n",
    "        for line in open(word_sim_dir+\"/\"+filename,'r'):\n",
    "            line = line.strip().lower()\n",
    "            word1, word2, val = line.split()\n",
    "            try:\n",
    "                vec1= model[word1].tolist()\n",
    "                vec2 = model[word2].tolist()\n",
    "\n",
    "                u_vec1 = u.transform([vec1] )[0]\n",
    "                u_vec2 =  u.transform([vec2] )[0]\n",
    "\n",
    "            except Exception as e:\n",
    "                not_found+=1\n",
    "                next \n",
    "            manual_dict[(word1, word2)] = float(val)\n",
    "            auto_dict[(word1, word2)] = cosine_sim(vec1, vec2)\n",
    "            reduced_dict[(word1, word2)] = cosine_sim(u_vec1, u_vec2)\n",
    "            total_size += 1    \n",
    "        print ( \"%15s\" % str(total_size), \"%10s\" % str(not_found), \"%15.4f\" % spearmans_rho(assign_ranks(manual_dict), assign_ranks(auto_dict)),\n",
    "               \"%15.4f\" % spearmans_rho(assign_ranks(manual_dict), assign_ranks(reduced_dict)),\"%15.4f\" % spearmans_rho(assign_ranks(auto_dict), assign_ranks(reduced_dict)),\n",
    "              filename)\n"
   ]
  },
  {
   "cell_type": "code",
   "execution_count": 62,
   "metadata": {},
   "outputs": [
    {
     "name": "stderr",
     "output_type": "stream",
     "text": [
      "/home/wes/UMAP_experiments/.venv/lib/python3.6/site-packages/numba/typed_passes.py:293: NumbaPerformanceWarning: \n",
      "The keyword argument 'parallel=True' was specified but no transformation for parallel execution was possible.\n",
      "\n",
      "To find out why, try turning on parallel diagnostics, see http://numba.pydata.org/numba-doc/latest/user/parallel.html#diagnostics for help.\n",
      "\n",
      "File \".venv/lib/python3.6/site-packages/umap/nndescent.py\", line 47:\n",
      "    @numba.njit(parallel=True)\n",
      "    def nn_descent(\n",
      "    ^\n",
      "\n",
      "  state.func_ir.loc))\n"
     ]
    },
    {
     "name": "stdout",
     "output_type": "stream",
     "text": [
      "CPU times: user 3min 59s, sys: 3.65 s, total: 4min 3s\n",
      "Wall time: 3min 20s\n",
      "======================================================================================\n",
      "      Num Pairs  Not found    Word2Vec Rho      UMAPed Rho word2vec/umap File name\n",
      "======================================================================================\n"
     ]
    },
    {
     "name": "stderr",
     "output_type": "stream",
     "text": [
      "/home/wes/UMAP_experiments/.venv/lib/python3.6/site-packages/numba/typed_passes.py:293: NumbaPerformanceWarning: \n",
      "The keyword argument 'parallel=True' was specified but no transformation for parallel execution was possible.\n",
      "\n",
      "To find out why, try turning on parallel diagnostics, see http://numba.pydata.org/numba-doc/latest/user/parallel.html#diagnostics for help.\n",
      "\n",
      "File \".venv/lib/python3.6/site-packages/umap/nndescent.py\", line 124:\n",
      "    @numba.njit(parallel=True)\n",
      "    def init_from_random(n_neighbors, data, query_points, heap, rng_state):\n",
      "    ^\n",
      "\n",
      "  state.func_ir.loc))\n",
      "/home/wes/UMAP_experiments/.venv/lib/python3.6/site-packages/numba/typed_passes.py:293: NumbaPerformanceWarning: \n",
      "The keyword argument 'parallel=True' was specified but no transformation for parallel execution was possible.\n",
      "\n",
      "To find out why, try turning on parallel diagnostics, see http://numba.pydata.org/numba-doc/latest/user/parallel.html#diagnostics for help.\n",
      "\n",
      "File \".venv/lib/python3.6/site-packages/umap/nndescent.py\", line 135:\n",
      "    @numba.njit(parallel=True)\n",
      "    def init_from_tree(tree, data, query_points, heap, rng_state):\n",
      "    ^\n",
      "\n",
      "  state.func_ir.loc))\n"
     ]
    },
    {
     "name": "stdout",
     "output_type": "stream",
     "text": [
      "            130          0          0.5590          0.0273          0.3919 EN-YP-130.txt\n",
      "             65          0          0.7498          0.4048          0.3524 EN-RG-65.txt\n",
      "            287         12          0.6453          0.3961          0.5054 EN-MTurk-287.txt\n",
      "            999          0          0.4420          0.1079          0.4911 EN-SIMLEX-999.txt\n",
      "            144          9          0.4929          0.1350          0.4024 EN-VERB-143.txt\n",
      "            252          2          0.6241          0.3610          0.3465 EN-WS-353-REL.txt\n",
      "           2034        209          0.4747          0.1743          0.4596 EN-RW-STANFORD.txt\n",
      "           3000         54          0.7610          0.4584          0.6496 EN-MEN-TR-3k.txt\n",
      "            353          3          0.6858          0.4024          0.5018 EN-WS-353-ALL.txt\n",
      "             30          0          0.7880          0.2688          0.1373 EN-MC-30.txt\n",
      "            771          0          0.6713          0.2039          0.4053 EN-MTurk-771.txt\n",
      "            203          1          0.7657          0.4905          0.5252 EN-WS-353-SIM.txt\n"
     ]
    },
    {
     "name": "stderr",
     "output_type": "stream",
     "text": [
      "/home/wes/UMAP_experiments/.venv/lib/python3.6/site-packages/numba/typed_passes.py:293: NumbaPerformanceWarning: \n",
      "The keyword argument 'parallel=True' was specified but no transformation for parallel execution was possible.\n",
      "\n",
      "To find out why, try turning on parallel diagnostics, see http://numba.pydata.org/numba-doc/latest/user/parallel.html#diagnostics for help.\n",
      "\n",
      "File \".venv/lib/python3.6/site-packages/umap/nndescent.py\", line 47:\n",
      "    @numba.njit(parallel=True)\n",
      "    def nn_descent(\n",
      "    ^\n",
      "\n",
      "  state.func_ir.loc))\n"
     ]
    },
    {
     "name": "stdout",
     "output_type": "stream",
     "text": [
      "CPU times: user 8min 21s, sys: 7.76 s, total: 8min 29s\n",
      "Wall time: 7min 1s\n",
      "======================================================================================\n",
      "      Num Pairs  Not found    Word2Vec Rho      UMAPed Rho word2vec/umap File name\n",
      "======================================================================================\n"
     ]
    },
    {
     "name": "stderr",
     "output_type": "stream",
     "text": [
      "/home/wes/UMAP_experiments/.venv/lib/python3.6/site-packages/numba/typed_passes.py:293: NumbaPerformanceWarning: \n",
      "The keyword argument 'parallel=True' was specified but no transformation for parallel execution was possible.\n",
      "\n",
      "To find out why, try turning on parallel diagnostics, see http://numba.pydata.org/numba-doc/latest/user/parallel.html#diagnostics for help.\n",
      "\n",
      "File \".venv/lib/python3.6/site-packages/umap/nndescent.py\", line 124:\n",
      "    @numba.njit(parallel=True)\n",
      "    def init_from_random(n_neighbors, data, query_points, heap, rng_state):\n",
      "    ^\n",
      "\n",
      "  state.func_ir.loc))\n",
      "/home/wes/UMAP_experiments/.venv/lib/python3.6/site-packages/numba/typed_passes.py:293: NumbaPerformanceWarning: \n",
      "The keyword argument 'parallel=True' was specified but no transformation for parallel execution was possible.\n",
      "\n",
      "To find out why, try turning on parallel diagnostics, see http://numba.pydata.org/numba-doc/latest/user/parallel.html#diagnostics for help.\n",
      "\n",
      "File \".venv/lib/python3.6/site-packages/umap/nndescent.py\", line 135:\n",
      "    @numba.njit(parallel=True)\n",
      "    def init_from_tree(tree, data, query_points, heap, rng_state):\n",
      "    ^\n",
      "\n",
      "  state.func_ir.loc))\n"
     ]
    },
    {
     "name": "stdout",
     "output_type": "stream",
     "text": [
      "            130          0          0.5590          0.0291          0.3926 EN-YP-130.txt\n",
      "             65          0          0.7498          0.4205          0.3559 EN-RG-65.txt\n",
      "            287         12          0.6453          0.3942          0.5070 EN-MTurk-287.txt\n",
      "            999          0          0.4420          0.1083          0.4918 EN-SIMLEX-999.txt\n",
      "            144          9          0.4929          0.1417          0.4088 EN-VERB-143.txt\n",
      "            252          2          0.6241          0.3520          0.3484 EN-WS-353-REL.txt\n",
      "           2034        209          0.4747          0.1760          0.4600 EN-RW-STANFORD.txt\n",
      "           3000         54          0.7610          0.4591          0.6494 EN-MEN-TR-3k.txt\n",
      "            353          3          0.6858          0.4079          0.5139 EN-WS-353-ALL.txt\n",
      "             30          0          0.7880          0.2806          0.1355 EN-MC-30.txt\n",
      "            771          0          0.6713          0.2093          0.4077 EN-MTurk-771.txt\n",
      "            203          1          0.7657          0.5145          0.5481 EN-WS-353-SIM.txt\n"
     ]
    },
    {
     "name": "stderr",
     "output_type": "stream",
     "text": [
      "/home/wes/UMAP_experiments/.venv/lib/python3.6/site-packages/numba/typed_passes.py:293: NumbaPerformanceWarning: \n",
      "The keyword argument 'parallel=True' was specified but no transformation for parallel execution was possible.\n",
      "\n",
      "To find out why, try turning on parallel diagnostics, see http://numba.pydata.org/numba-doc/latest/user/parallel.html#diagnostics for help.\n",
      "\n",
      "File \".venv/lib/python3.6/site-packages/umap/nndescent.py\", line 47:\n",
      "    @numba.njit(parallel=True)\n",
      "    def nn_descent(\n",
      "    ^\n",
      "\n",
      "  state.func_ir.loc))\n"
     ]
    },
    {
     "name": "stdout",
     "output_type": "stream",
     "text": [
      "CPU times: user 12min 27s, sys: 10.8 s, total: 12min 37s\n",
      "Wall time: 10min 25s\n",
      "======================================================================================\n",
      "      Num Pairs  Not found    Word2Vec Rho      UMAPed Rho word2vec/umap File name\n",
      "======================================================================================\n"
     ]
    },
    {
     "name": "stderr",
     "output_type": "stream",
     "text": [
      "/home/wes/UMAP_experiments/.venv/lib/python3.6/site-packages/numba/typed_passes.py:293: NumbaPerformanceWarning: \n",
      "The keyword argument 'parallel=True' was specified but no transformation for parallel execution was possible.\n",
      "\n",
      "To find out why, try turning on parallel diagnostics, see http://numba.pydata.org/numba-doc/latest/user/parallel.html#diagnostics for help.\n",
      "\n",
      "File \".venv/lib/python3.6/site-packages/umap/nndescent.py\", line 124:\n",
      "    @numba.njit(parallel=True)\n",
      "    def init_from_random(n_neighbors, data, query_points, heap, rng_state):\n",
      "    ^\n",
      "\n",
      "  state.func_ir.loc))\n",
      "/home/wes/UMAP_experiments/.venv/lib/python3.6/site-packages/numba/typed_passes.py:293: NumbaPerformanceWarning: \n",
      "The keyword argument 'parallel=True' was specified but no transformation for parallel execution was possible.\n",
      "\n",
      "To find out why, try turning on parallel diagnostics, see http://numba.pydata.org/numba-doc/latest/user/parallel.html#diagnostics for help.\n",
      "\n",
      "File \".venv/lib/python3.6/site-packages/umap/nndescent.py\", line 135:\n",
      "    @numba.njit(parallel=True)\n",
      "    def init_from_tree(tree, data, query_points, heap, rng_state):\n",
      "    ^\n",
      "\n",
      "  state.func_ir.loc))\n"
     ]
    },
    {
     "name": "stdout",
     "output_type": "stream",
     "text": [
      "            130          0          0.5590          0.0329          0.3962 EN-YP-130.txt\n",
      "             65          0          0.7498          0.4118          0.3546 EN-RG-65.txt\n",
      "            287         12          0.6453          0.3937          0.5067 EN-MTurk-287.txt\n",
      "            999          0          0.4420          0.1072          0.4917 EN-SIMLEX-999.txt\n",
      "            144          9          0.4929          0.1433          0.4001 EN-VERB-143.txt\n",
      "            252          2          0.6241          0.3502          0.3472 EN-WS-353-REL.txt\n",
      "           2034        209          0.4747          0.1753          0.4660 EN-RW-STANFORD.txt\n",
      "           3000         54          0.7610          0.4591          0.6497 EN-MEN-TR-3k.txt\n",
      "            353          3          0.6858          0.4074          0.5133 EN-WS-353-ALL.txt\n",
      "             30          0          0.7880          0.2824          0.1364 EN-MC-30.txt\n",
      "            771          0          0.6713          0.2063          0.4078 EN-MTurk-771.txt\n",
      "            203          1          0.7657          0.5150          0.5473 EN-WS-353-SIM.txt\n"
     ]
    },
    {
     "name": "stderr",
     "output_type": "stream",
     "text": [
      "/home/wes/UMAP_experiments/.venv/lib/python3.6/site-packages/numba/typed_passes.py:293: NumbaPerformanceWarning: \n",
      "The keyword argument 'parallel=True' was specified but no transformation for parallel execution was possible.\n",
      "\n",
      "To find out why, try turning on parallel diagnostics, see http://numba.pydata.org/numba-doc/latest/user/parallel.html#diagnostics for help.\n",
      "\n",
      "File \".venv/lib/python3.6/site-packages/umap/nndescent.py\", line 47:\n",
      "    @numba.njit(parallel=True)\n",
      "    def nn_descent(\n",
      "    ^\n",
      "\n",
      "  state.func_ir.loc))\n"
     ]
    },
    {
     "name": "stdout",
     "output_type": "stream",
     "text": [
      "CPU times: user 21min 13s, sys: 17 s, total: 21min 30s\n",
      "Wall time: 17min 37s\n",
      "======================================================================================\n",
      "      Num Pairs  Not found    Word2Vec Rho      UMAPed Rho word2vec/umap File name\n",
      "======================================================================================\n"
     ]
    },
    {
     "name": "stderr",
     "output_type": "stream",
     "text": [
      "/home/wes/UMAP_experiments/.venv/lib/python3.6/site-packages/numba/typed_passes.py:293: NumbaPerformanceWarning: \n",
      "The keyword argument 'parallel=True' was specified but no transformation for parallel execution was possible.\n",
      "\n",
      "To find out why, try turning on parallel diagnostics, see http://numba.pydata.org/numba-doc/latest/user/parallel.html#diagnostics for help.\n",
      "\n",
      "File \".venv/lib/python3.6/site-packages/umap/nndescent.py\", line 124:\n",
      "    @numba.njit(parallel=True)\n",
      "    def init_from_random(n_neighbors, data, query_points, heap, rng_state):\n",
      "    ^\n",
      "\n",
      "  state.func_ir.loc))\n",
      "/home/wes/UMAP_experiments/.venv/lib/python3.6/site-packages/numba/typed_passes.py:293: NumbaPerformanceWarning: \n",
      "The keyword argument 'parallel=True' was specified but no transformation for parallel execution was possible.\n",
      "\n",
      "To find out why, try turning on parallel diagnostics, see http://numba.pydata.org/numba-doc/latest/user/parallel.html#diagnostics for help.\n",
      "\n",
      "File \".venv/lib/python3.6/site-packages/umap/nndescent.py\", line 135:\n",
      "    @numba.njit(parallel=True)\n",
      "    def init_from_tree(tree, data, query_points, heap, rng_state):\n",
      "    ^\n",
      "\n",
      "  state.func_ir.loc))\n"
     ]
    },
    {
     "name": "stdout",
     "output_type": "stream",
     "text": [
      "            130          0          0.5590          0.0308          0.3969 EN-YP-130.txt\n",
      "             65          0          0.7498          0.4162          0.3549 EN-RG-65.txt\n",
      "            287         12          0.6453          0.3896          0.5064 EN-MTurk-287.txt\n",
      "            999          0          0.4420          0.1076          0.4941 EN-SIMLEX-999.txt\n",
      "            144          9          0.4929          0.1434          0.4050 EN-VERB-143.txt\n",
      "            252          2          0.6241          0.3533          0.3483 EN-WS-353-REL.txt\n",
      "           2034        209          0.4747          0.1710          0.4605 EN-RW-STANFORD.txt\n",
      "           3000         54          0.7610          0.4588          0.6498 EN-MEN-TR-3k.txt\n",
      "            353          3          0.6858          0.4025          0.5053 EN-WS-353-ALL.txt\n",
      "             30          0          0.7880          0.2806          0.1355 EN-MC-30.txt\n",
      "            771          0          0.6713          0.2058          0.4078 EN-MTurk-771.txt\n",
      "            203          1          0.7657          0.5042          0.5349 EN-WS-353-SIM.txt\n"
     ]
    },
    {
     "name": "stderr",
     "output_type": "stream",
     "text": [
      "/home/wes/UMAP_experiments/.venv/lib/python3.6/site-packages/numba/typed_passes.py:293: NumbaPerformanceWarning: \n",
      "The keyword argument 'parallel=True' was specified but no transformation for parallel execution was possible.\n",
      "\n",
      "To find out why, try turning on parallel diagnostics, see http://numba.pydata.org/numba-doc/latest/user/parallel.html#diagnostics for help.\n",
      "\n",
      "File \".venv/lib/python3.6/site-packages/umap/nndescent.py\", line 47:\n",
      "    @numba.njit(parallel=True)\n",
      "    def nn_descent(\n",
      "    ^\n",
      "\n",
      "  state.func_ir.loc))\n"
     ]
    },
    {
     "name": "stdout",
     "output_type": "stream",
     "text": [
      "CPU times: user 31min 8s, sys: 17.3 s, total: 31min 25s\n",
      "Wall time: 25min 31s\n",
      "======================================================================================\n",
      "      Num Pairs  Not found    Word2Vec Rho      UMAPed Rho word2vec/umap File name\n",
      "======================================================================================\n"
     ]
    },
    {
     "name": "stderr",
     "output_type": "stream",
     "text": [
      "/home/wes/UMAP_experiments/.venv/lib/python3.6/site-packages/numba/typed_passes.py:293: NumbaPerformanceWarning: \n",
      "The keyword argument 'parallel=True' was specified but no transformation for parallel execution was possible.\n",
      "\n",
      "To find out why, try turning on parallel diagnostics, see http://numba.pydata.org/numba-doc/latest/user/parallel.html#diagnostics for help.\n",
      "\n",
      "File \".venv/lib/python3.6/site-packages/umap/nndescent.py\", line 124:\n",
      "    @numba.njit(parallel=True)\n",
      "    def init_from_random(n_neighbors, data, query_points, heap, rng_state):\n",
      "    ^\n",
      "\n",
      "  state.func_ir.loc))\n",
      "/home/wes/UMAP_experiments/.venv/lib/python3.6/site-packages/numba/typed_passes.py:293: NumbaPerformanceWarning: \n",
      "The keyword argument 'parallel=True' was specified but no transformation for parallel execution was possible.\n",
      "\n",
      "To find out why, try turning on parallel diagnostics, see http://numba.pydata.org/numba-doc/latest/user/parallel.html#diagnostics for help.\n",
      "\n",
      "File \".venv/lib/python3.6/site-packages/umap/nndescent.py\", line 135:\n",
      "    @numba.njit(parallel=True)\n",
      "    def init_from_tree(tree, data, query_points, heap, rng_state):\n",
      "    ^\n",
      "\n",
      "  state.func_ir.loc))\n"
     ]
    },
    {
     "name": "stdout",
     "output_type": "stream",
     "text": [
      "            130          0          0.5590          0.0329          0.3967 EN-YP-130.txt\n",
      "             65          0          0.7498          0.4122          0.3536 EN-RG-65.txt\n",
      "            287         12          0.6453          0.3935          0.5068 EN-MTurk-287.txt\n",
      "            999          0          0.4420          0.1068          0.4920 EN-SIMLEX-999.txt\n",
      "            144          9          0.4929          0.1577          0.3885 EN-VERB-143.txt\n",
      "            252          2          0.6241          0.3507          0.3486 EN-WS-353-REL.txt\n",
      "           2034        209          0.4747          0.1713          0.4580 EN-RW-STANFORD.txt\n",
      "           3000         54          0.7610          0.4575          0.6481 EN-MEN-TR-3k.txt\n",
      "            353          3          0.6858          0.4074          0.5132 EN-WS-353-ALL.txt\n",
      "             30          0          0.7880          0.2820          0.1390 EN-MC-30.txt\n",
      "            771          0          0.6713          0.2063          0.4055 EN-MTurk-771.txt\n",
      "            203          1          0.7657          0.5151          0.5482 EN-WS-353-SIM.txt\n"
     ]
    }
   ],
   "source": [
    "import umap\n",
    "\n",
    "fit10 = umap.UMAP(n_neighbors=15, random_state=42,n_components=10, metric='cosine')\n",
    "%time u10 = fit10.fit(train_data)\n",
    "run_word_sim (model,u10)\n",
    "\n",
    "fit30 = umap.UMAP(n_neighbors=15, random_state=42,n_components=30, metric='cosine')\n",
    "%time u30 = fit30.fit(train_data)\n",
    "run_word_sim (model,u30)\n",
    "fit50 = umap.UMAP(n_neighbors=15, random_state=42,n_components=50, metric='cosine')\n",
    "%time u50 = fit50.fit(train_data)\n",
    "run_word_sim (model,u50)\n",
    "\n",
    "fit100 = umap.UMAP(n_neighbors=15, random_state=42,n_components=100, metric='cosine')\n",
    "%time u100 = fit100.fit(train_data)\n",
    "run_word_sim (model,u100)\n",
    "\n",
    "fit150 = umap.UMAP(n_neighbors=15, random_state=42,n_components=150, metric='cosine')\n",
    "%time u150 = fit150.fit(train_data)\n",
    "run_word_sim (model,u150)\n",
    "\n",
    "\n",
    "\n",
    "\n",
    "\n",
    "\n",
    "\n"
   ]
  }
 ],
 "metadata": {
  "kernelspec": {
   "display_name": "Python 3",
   "language": "python",
   "name": "python3"
  },
  "language_info": {
   "codemirror_mode": {
    "name": "ipython",
    "version": 3
   },
   "file_extension": ".py",
   "mimetype": "text/x-python",
   "name": "python",
   "nbconvert_exporter": "python",
   "pygments_lexer": "ipython3",
   "version": "3.6.9"
  }
 },
 "nbformat": 4,
 "nbformat_minor": 4
}
