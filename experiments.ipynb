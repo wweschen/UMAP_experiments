{
 "cells": [
  {
   "cell_type": "code",
   "execution_count": 1,
   "metadata": {},
   "outputs": [],
   "source": [
    "import os\n",
    "import gensim\n",
    "\n",
    "\n",
    "path = os.path.join('word2vec',\n",
    "        'GoogleNews-vectors-negative300.bin')\n",
    "model = gensim.models.KeyedVectors.load_word2vec_format(\n",
    "        path,\n",
    "        binary=True\n",
    "    )"
   ]
  },
  {
   "cell_type": "code",
   "execution_count": 2,
   "metadata": {},
   "outputs": [],
   "source": [
    "import math\n",
    "import numpy\n",
    "from operator import itemgetter\n",
    "from numpy.linalg import norm\n",
    "\n",
    "EPSILON = 1e-6\n",
    "\n",
    "def euclidean(vec1, vec2):\n",
    "  diff = vec1 - vec2\n",
    "  return math.sqrt(diff.dot(diff))\n",
    "\n",
    "def cosine_sim(vec1, vec2):\n",
    "  vec1 += EPSILON * numpy.ones(len(vec1))\n",
    "  vec2 += EPSILON * numpy.ones(len(vec1))\n",
    "  return vec1.dot(vec2)/(norm(vec1)*norm(vec2))\n",
    "\n",
    "def assign_ranks(item_dict):\n",
    "  ranked_dict = {}\n",
    "  sorted_list = [(key, val) for (key, val) in sorted(item_dict.items(),\n",
    "                                                     key=itemgetter(1),\n",
    "                                                     reverse=True)]\n",
    "  for i, (key, val) in enumerate(sorted_list):\n",
    "    same_val_indices = []\n",
    "    for j, (key2, val2) in enumerate(sorted_list):\n",
    "      if val2 == val:\n",
    "        same_val_indices.append(j+1)\n",
    "    if len(same_val_indices) == 1:\n",
    "      ranked_dict[key] = i+1\n",
    "    else:\n",
    "      ranked_dict[key] = 1.*sum(same_val_indices)/len(same_val_indices)\n",
    "  return ranked_dict\n",
    "\n",
    "def correlation(dict1, dict2):\n",
    "  avg1 = 1.*sum([val for key, val in dict1.iteritems()])/len(dict1)\n",
    "  avg2 = 1.*sum([val for key, val in dict2.iteritems()])/len(dict2)\n",
    "  numr, den1, den2 = (0., 0., 0.)\n",
    "  for val1, val2 in zip(dict1.itervalues(), dict2.itervalues()):\n",
    "    numr += (val1 - avg1) * (val2 - avg2)\n",
    "    den1 += (val1 - avg1) ** 2\n",
    "    den2 += (val2 - avg2) ** 2\n",
    "  return numr / math.sqrt(den1 * den2)\n",
    "\n",
    "def spearmans_rho(ranked_dict1, ranked_dict2):\n",
    "  assert len(ranked_dict1) == len(ranked_dict2)\n",
    "  if len(ranked_dict1) == 0 or len(ranked_dict2) == 0:\n",
    "    return 0.\n",
    "  x_avg = 1.*sum([val for val in ranked_dict1.values()])/len(ranked_dict1)\n",
    "  y_avg = 1.*sum([val for val in ranked_dict2.values()])/len(ranked_dict2)\n",
    "  num, d_x, d_y = (0., 0., 0.)\n",
    "  for key in ranked_dict1.keys():\n",
    "    xi = ranked_dict1[key]\n",
    "    yi = ranked_dict2[key]\n",
    "    num += (xi-x_avg)*(yi-y_avg)\n",
    "    d_x += (xi-x_avg)**2\n",
    "    d_y += (yi-y_avg)**2\n",
    "  return num/(math.sqrt(d_x*d_y))"
   ]
  },
  {
   "cell_type": "code",
   "execution_count": 3,
   "metadata": {},
   "outputs": [
    {
     "data": {
      "text/plain": [
       "0.5065850456386709"
      ]
     },
     "execution_count": 3,
     "metadata": {},
     "output_type": "execute_result"
    }
   ],
   "source": [
    "vec1=model['test'].tolist()\n",
    "vec2 =model['exam'].tolist()\n",
    "cosine_sim(vec1,vec2)"
   ]
  },
  {
   "cell_type": "code",
   "execution_count": 63,
   "metadata": {},
   "outputs": [
    {
     "name": "stdout",
     "output_type": "stream",
     "text": [
      "(3000000, 300)\n"
     ]
    }
   ],
   "source": [
    "data = model.vectors\n",
    "print(data.shape)"
   ]
  },
  {
   "cell_type": "code",
   "execution_count": 83,
   "metadata": {},
   "outputs": [],
   "source": [
    "import numpy as np\n",
    "num_points = 500000\n",
    "selected_index = np.random.choice(data.shape[0],size=num_points, replace=True)\n",
    "train_data = data[selected_index,:]\n",
    "words = np.array(model.index2word)[selected_index]"
   ]
  },
  {
   "cell_type": "code",
   "execution_count": 84,
   "metadata": {},
   "outputs": [],
   "source": [
    "def run_word_sim(model,u,results):\n",
    "    print ('======================================================================================')\n",
    "    print (\"%15s\" % \"Num Pairs\", \"%10s\" % \"Not found\", \"%15s\" % \"Word2Vec Rho\",  \"%15s\" % \"UMAPed Rho\", \"word2vec/umap\",\"File name\")\n",
    "    print ('======================================================================================')\n",
    " \n",
    "    word_sim_dir=\"data/word-sim\"\n",
    "\n",
    "    for i, filename in enumerate(os.listdir(word_sim_dir)):\n",
    "        not_found, total_size = (0, 0)\n",
    "        manual_dict, auto_dict,reduced_dict = ({}, {},{})\n",
    "\n",
    "        for line in open(word_sim_dir+\"/\"+filename,'r'):\n",
    "            line = line.strip().lower()\n",
    "            word1, word2, val = line.split()\n",
    "            try:\n",
    "                vec1= model[word1].tolist()\n",
    "                vec2 = model[word2].tolist()\n",
    "\n",
    "                u_vec1 = u.transform([vec1] )[0]\n",
    "                u_vec2 =  u.transform([vec2] )[0]\n",
    "\n",
    "            except Exception as e:\n",
    "                not_found+=1\n",
    "                next \n",
    "            manual_dict[(word1, word2)] = float(val)\n",
    "            auto_dict[(word1, word2)] = cosine_sim(vec1, vec2)\n",
    "            reduced_dict[(word1, word2)] = cosine_sim(u_vec1, u_vec2)\n",
    "            total_size += 1    \n",
    "        \n",
    "        results[filename].append(spearmans_rho(assign_ranks(auto_dict), assign_ranks(reduced_dict)))\n",
    "        \n",
    "        \n",
    "        print ( \"%15s\" % str(total_size), \"%10s\" % str(not_found), \"%15.4f\" % spearmans_rho(assign_ranks(manual_dict), assign_ranks(auto_dict)),\n",
    "               \"%15.4f\" % spearmans_rho(assign_ranks(manual_dict), assign_ranks(reduced_dict)),\"%15.4f\" % spearmans_rho(assign_ranks(auto_dict), assign_ranks(reduced_dict)),\n",
    "              filename)\n"
   ]
  },
  {
   "cell_type": "code",
   "execution_count": 85,
   "metadata": {},
   "outputs": [
    {
     "name": "stderr",
     "output_type": "stream",
     "text": [
      "/home/wes/UMAP_experiments/.venv/lib/python3.6/site-packages/numba/typed_passes.py:293: NumbaPerformanceWarning: \n",
      "The keyword argument 'parallel=True' was specified but no transformation for parallel execution was possible.\n",
      "\n",
      "To find out why, try turning on parallel diagnostics, see http://numba.pydata.org/numba-doc/latest/user/parallel.html#diagnostics for help.\n",
      "\n",
      "File \".venv/lib/python3.6/site-packages/umap/nndescent.py\", line 47:\n",
      "    @numba.njit(parallel=True)\n",
      "    def nn_descent(\n",
      "    ^\n",
      "\n",
      "  state.func_ir.loc))\n",
      "/home/wes/UMAP_experiments/.venv/lib/python3.6/site-packages/umap/spectral.py:229: UserWarning: Embedding a total of 2 separate connected components using meta-embedding (experimental)\n",
      "  n_components\n"
     ]
    },
    {
     "name": "stdout",
     "output_type": "stream",
     "text": [
      "CPU times: user 40min 30s, sys: 53.2 s, total: 41min 23s\n",
      "Wall time: 25min 38s\n",
      "======================================================================================\n",
      "      Num Pairs  Not found    Word2Vec Rho      UMAPed Rho word2vec/umap File name\n",
      "======================================================================================\n"
     ]
    },
    {
     "name": "stderr",
     "output_type": "stream",
     "text": [
      "/home/wes/UMAP_experiments/.venv/lib/python3.6/site-packages/numba/typed_passes.py:293: NumbaPerformanceWarning: \n",
      "The keyword argument 'parallel=True' was specified but no transformation for parallel execution was possible.\n",
      "\n",
      "To find out why, try turning on parallel diagnostics, see http://numba.pydata.org/numba-doc/latest/user/parallel.html#diagnostics for help.\n",
      "\n",
      "File \".venv/lib/python3.6/site-packages/umap/nndescent.py\", line 124:\n",
      "    @numba.njit(parallel=True)\n",
      "    def init_from_random(n_neighbors, data, query_points, heap, rng_state):\n",
      "    ^\n",
      "\n",
      "  state.func_ir.loc))\n",
      "/home/wes/UMAP_experiments/.venv/lib/python3.6/site-packages/numba/typed_passes.py:293: NumbaPerformanceWarning: \n",
      "The keyword argument 'parallel=True' was specified but no transformation for parallel execution was possible.\n",
      "\n",
      "To find out why, try turning on parallel diagnostics, see http://numba.pydata.org/numba-doc/latest/user/parallel.html#diagnostics for help.\n",
      "\n",
      "File \".venv/lib/python3.6/site-packages/umap/nndescent.py\", line 135:\n",
      "    @numba.njit(parallel=True)\n",
      "    def init_from_tree(tree, data, query_points, heap, rng_state):\n",
      "    ^\n",
      "\n",
      "  state.func_ir.loc))\n"
     ]
    },
    {
     "name": "stdout",
     "output_type": "stream",
     "text": [
      "            130          0          0.5590          0.0309          0.4420 EN-YP-130.txt\n",
      "             65          0          0.7498          0.2088          0.3218 EN-RG-65.txt\n",
      "            287         12          0.6453          0.3730          0.4771 EN-MTurk-287.txt\n",
      "            999          0          0.4420          0.1530          0.5143 EN-SIMLEX-999.txt\n",
      "            144          9          0.4929          0.0642          0.3261 EN-VERB-143.txt\n",
      "            252          2          0.6241          0.2285          0.3918 EN-WS-353-REL.txt\n",
      "           2034        209          0.4747          0.1736          0.4409 EN-RW-STANFORD.txt\n",
      "           3000         54          0.7610          0.4817          0.6694 EN-MEN-TR-3k.txt\n",
      "            353          3          0.6858          0.3287          0.5255 EN-WS-353-ALL.txt\n",
      "             30          0          0.7880          0.2566          0.4625 EN-MC-30.txt\n",
      "            771          0          0.6713          0.2023          0.3994 EN-MTurk-771.txt\n",
      "            203          1          0.7657          0.5089          0.6225 EN-WS-353-SIM.txt\n"
     ]
    },
    {
     "name": "stderr",
     "output_type": "stream",
     "text": [
      "/home/wes/UMAP_experiments/.venv/lib/python3.6/site-packages/numba/typed_passes.py:293: NumbaPerformanceWarning: \n",
      "The keyword argument 'parallel=True' was specified but no transformation for parallel execution was possible.\n",
      "\n",
      "To find out why, try turning on parallel diagnostics, see http://numba.pydata.org/numba-doc/latest/user/parallel.html#diagnostics for help.\n",
      "\n",
      "File \".venv/lib/python3.6/site-packages/umap/nndescent.py\", line 47:\n",
      "    @numba.njit(parallel=True)\n",
      "    def nn_descent(\n",
      "    ^\n",
      "\n",
      "  state.func_ir.loc))\n",
      "/home/wes/UMAP_experiments/.venv/lib/python3.6/site-packages/umap/spectral.py:229: UserWarning: Embedding a total of 2 separate connected components using meta-embedding (experimental)\n",
      "  n_components\n"
     ]
    },
    {
     "name": "stdout",
     "output_type": "stream",
     "text": [
      "CPU times: user 44min 57s, sys: 1min 9s, total: 46min 7s\n",
      "Wall time: 29min 16s\n",
      "======================================================================================\n",
      "      Num Pairs  Not found    Word2Vec Rho      UMAPed Rho word2vec/umap File name\n",
      "======================================================================================\n"
     ]
    },
    {
     "name": "stderr",
     "output_type": "stream",
     "text": [
      "/home/wes/UMAP_experiments/.venv/lib/python3.6/site-packages/numba/typed_passes.py:293: NumbaPerformanceWarning: \n",
      "The keyword argument 'parallel=True' was specified but no transformation for parallel execution was possible.\n",
      "\n",
      "To find out why, try turning on parallel diagnostics, see http://numba.pydata.org/numba-doc/latest/user/parallel.html#diagnostics for help.\n",
      "\n",
      "File \".venv/lib/python3.6/site-packages/umap/nndescent.py\", line 124:\n",
      "    @numba.njit(parallel=True)\n",
      "    def init_from_random(n_neighbors, data, query_points, heap, rng_state):\n",
      "    ^\n",
      "\n",
      "  state.func_ir.loc))\n",
      "/home/wes/UMAP_experiments/.venv/lib/python3.6/site-packages/numba/typed_passes.py:293: NumbaPerformanceWarning: \n",
      "The keyword argument 'parallel=True' was specified but no transformation for parallel execution was possible.\n",
      "\n",
      "To find out why, try turning on parallel diagnostics, see http://numba.pydata.org/numba-doc/latest/user/parallel.html#diagnostics for help.\n",
      "\n",
      "File \".venv/lib/python3.6/site-packages/umap/nndescent.py\", line 135:\n",
      "    @numba.njit(parallel=True)\n",
      "    def init_from_tree(tree, data, query_points, heap, rng_state):\n",
      "    ^\n",
      "\n",
      "  state.func_ir.loc))\n"
     ]
    },
    {
     "name": "stdout",
     "output_type": "stream",
     "text": [
      "            130          0          0.5590          0.0302          0.4487 EN-YP-130.txt\n",
      "             65          0          0.7498          0.2105          0.3269 EN-RG-65.txt\n",
      "            287         12          0.6453          0.3724          0.4700 EN-MTurk-287.txt\n",
      "            999          0          0.4420          0.1545          0.5234 EN-SIMLEX-999.txt\n",
      "            144          9          0.4929          0.0572          0.3204 EN-VERB-143.txt\n",
      "            252          2          0.6241          0.2230          0.3977 EN-WS-353-REL.txt\n",
      "           2034        209          0.4747          0.1760          0.4432 EN-RW-STANFORD.txt\n",
      "           3000         54          0.7610          0.4841          0.6713 EN-MEN-TR-3k.txt\n",
      "            353          3          0.6858          0.3300          0.5290 EN-WS-353-ALL.txt\n",
      "             30          0          0.7880          0.2419          0.4665 EN-MC-30.txt\n",
      "            771          0          0.6713          0.2097          0.4115 EN-MTurk-771.txt\n",
      "            203          1          0.7657          0.5090          0.6240 EN-WS-353-SIM.txt\n"
     ]
    },
    {
     "name": "stderr",
     "output_type": "stream",
     "text": [
      "/home/wes/UMAP_experiments/.venv/lib/python3.6/site-packages/numba/typed_passes.py:293: NumbaPerformanceWarning: \n",
      "The keyword argument 'parallel=True' was specified but no transformation for parallel execution was possible.\n",
      "\n",
      "To find out why, try turning on parallel diagnostics, see http://numba.pydata.org/numba-doc/latest/user/parallel.html#diagnostics for help.\n",
      "\n",
      "File \".venv/lib/python3.6/site-packages/umap/nndescent.py\", line 47:\n",
      "    @numba.njit(parallel=True)\n",
      "    def nn_descent(\n",
      "    ^\n",
      "\n",
      "  state.func_ir.loc))\n",
      "/home/wes/UMAP_experiments/.venv/lib/python3.6/site-packages/umap/spectral.py:229: UserWarning: Embedding a total of 2 separate connected components using meta-embedding (experimental)\n",
      "  n_components\n"
     ]
    },
    {
     "name": "stdout",
     "output_type": "stream",
     "text": [
      "CPU times: user 1h 8min 11s, sys: 1min 53s, total: 1h 10min 4s\n",
      "Wall time: 36min 42s\n",
      "======================================================================================\n",
      "      Num Pairs  Not found    Word2Vec Rho      UMAPed Rho word2vec/umap File name\n",
      "======================================================================================\n"
     ]
    },
    {
     "name": "stderr",
     "output_type": "stream",
     "text": [
      "/home/wes/UMAP_experiments/.venv/lib/python3.6/site-packages/numba/typed_passes.py:293: NumbaPerformanceWarning: \n",
      "The keyword argument 'parallel=True' was specified but no transformation for parallel execution was possible.\n",
      "\n",
      "To find out why, try turning on parallel diagnostics, see http://numba.pydata.org/numba-doc/latest/user/parallel.html#diagnostics for help.\n",
      "\n",
      "File \".venv/lib/python3.6/site-packages/umap/nndescent.py\", line 124:\n",
      "    @numba.njit(parallel=True)\n",
      "    def init_from_random(n_neighbors, data, query_points, heap, rng_state):\n",
      "    ^\n",
      "\n",
      "  state.func_ir.loc))\n",
      "/home/wes/UMAP_experiments/.venv/lib/python3.6/site-packages/numba/typed_passes.py:293: NumbaPerformanceWarning: \n",
      "The keyword argument 'parallel=True' was specified but no transformation for parallel execution was possible.\n",
      "\n",
      "To find out why, try turning on parallel diagnostics, see http://numba.pydata.org/numba-doc/latest/user/parallel.html#diagnostics for help.\n",
      "\n",
      "File \".venv/lib/python3.6/site-packages/umap/nndescent.py\", line 135:\n",
      "    @numba.njit(parallel=True)\n",
      "    def init_from_tree(tree, data, query_points, heap, rng_state):\n",
      "    ^\n",
      "\n",
      "  state.func_ir.loc))\n"
     ]
    },
    {
     "name": "stdout",
     "output_type": "stream",
     "text": [
      "            130          0          0.5590          0.0361          0.4448 EN-YP-130.txt\n",
      "             65          0          0.7498          0.2081          0.3287 EN-RG-65.txt\n",
      "            287         12          0.6453          0.3761          0.4842 EN-MTurk-287.txt\n",
      "            999          0          0.4420          0.1568          0.5249 EN-SIMLEX-999.txt\n",
      "            144          9          0.4929          0.0574          0.3145 EN-VERB-143.txt\n",
      "            252          2          0.6241          0.2137          0.3931 EN-WS-353-REL.txt\n",
      "           2034        209          0.4747          0.1762          0.4436 EN-RW-STANFORD.txt\n",
      "           3000         54          0.7610          0.4859          0.6727 EN-MEN-TR-3k.txt\n",
      "            353          3          0.6858          0.3270          0.5294 EN-WS-353-ALL.txt\n",
      "             30          0          0.7880          0.2419          0.4630 EN-MC-30.txt\n",
      "            771          0          0.6713          0.2102          0.4116 EN-MTurk-771.txt\n",
      "            203          1          0.7657          0.5120          0.6281 EN-WS-353-SIM.txt\n"
     ]
    },
    {
     "name": "stderr",
     "output_type": "stream",
     "text": [
      "/home/wes/UMAP_experiments/.venv/lib/python3.6/site-packages/numba/typed_passes.py:293: NumbaPerformanceWarning: \n",
      "The keyword argument 'parallel=True' was specified but no transformation for parallel execution was possible.\n",
      "\n",
      "To find out why, try turning on parallel diagnostics, see http://numba.pydata.org/numba-doc/latest/user/parallel.html#diagnostics for help.\n",
      "\n",
      "File \".venv/lib/python3.6/site-packages/umap/nndescent.py\", line 47:\n",
      "    @numba.njit(parallel=True)\n",
      "    def nn_descent(\n",
      "    ^\n",
      "\n",
      "  state.func_ir.loc))\n",
      "/home/wes/UMAP_experiments/.venv/lib/python3.6/site-packages/umap/spectral.py:229: UserWarning: Embedding a total of 2 separate connected components using meta-embedding (experimental)\n",
      "  n_components\n"
     ]
    },
    {
     "name": "stdout",
     "output_type": "stream",
     "text": [
      "CPU times: user 1h 35min, sys: 2min 12s, total: 1h 37min 13s\n",
      "Wall time: 48min 12s\n",
      "======================================================================================\n",
      "      Num Pairs  Not found    Word2Vec Rho      UMAPed Rho word2vec/umap File name\n",
      "======================================================================================\n"
     ]
    },
    {
     "name": "stderr",
     "output_type": "stream",
     "text": [
      "/home/wes/UMAP_experiments/.venv/lib/python3.6/site-packages/numba/typed_passes.py:293: NumbaPerformanceWarning: \n",
      "The keyword argument 'parallel=True' was specified but no transformation for parallel execution was possible.\n",
      "\n",
      "To find out why, try turning on parallel diagnostics, see http://numba.pydata.org/numba-doc/latest/user/parallel.html#diagnostics for help.\n",
      "\n",
      "File \".venv/lib/python3.6/site-packages/umap/nndescent.py\", line 124:\n",
      "    @numba.njit(parallel=True)\n",
      "    def init_from_random(n_neighbors, data, query_points, heap, rng_state):\n",
      "    ^\n",
      "\n",
      "  state.func_ir.loc))\n",
      "/home/wes/UMAP_experiments/.venv/lib/python3.6/site-packages/numba/typed_passes.py:293: NumbaPerformanceWarning: \n",
      "The keyword argument 'parallel=True' was specified but no transformation for parallel execution was possible.\n",
      "\n",
      "To find out why, try turning on parallel diagnostics, see http://numba.pydata.org/numba-doc/latest/user/parallel.html#diagnostics for help.\n",
      "\n",
      "File \".venv/lib/python3.6/site-packages/umap/nndescent.py\", line 135:\n",
      "    @numba.njit(parallel=True)\n",
      "    def init_from_tree(tree, data, query_points, heap, rng_state):\n",
      "    ^\n",
      "\n",
      "  state.func_ir.loc))\n"
     ]
    },
    {
     "name": "stdout",
     "output_type": "stream",
     "text": [
      "            130          0          0.5590          0.0379          0.4462 EN-YP-130.txt\n",
      "             65          0          0.7498          0.2134          0.3271 EN-RG-65.txt\n",
      "            287         12          0.6453          0.3774          0.4708 EN-MTurk-287.txt\n",
      "            999          0          0.4420          0.1533          0.5261 EN-SIMLEX-999.txt\n",
      "            144          9          0.4929          0.0644          0.3200 EN-VERB-143.txt\n",
      "            252          2          0.6241          0.2162          0.3940 EN-WS-353-REL.txt\n",
      "           2034        209          0.4747          0.1738          0.4428 EN-RW-STANFORD.txt\n",
      "           3000         54          0.7610          0.4851          0.6725 EN-MEN-TR-3k.txt\n",
      "            353          3          0.6858          0.3237          0.5288 EN-WS-353-ALL.txt\n",
      "             30          0          0.7880          0.2419          0.4630 EN-MC-30.txt\n",
      "            771          0          0.6713          0.2082          0.4119 EN-MTurk-771.txt\n",
      "            203          1          0.7657          0.5044          0.6279 EN-WS-353-SIM.txt\n"
     ]
    },
    {
     "name": "stderr",
     "output_type": "stream",
     "text": [
      "/home/wes/UMAP_experiments/.venv/lib/python3.6/site-packages/numba/typed_passes.py:293: NumbaPerformanceWarning: \n",
      "The keyword argument 'parallel=True' was specified but no transformation for parallel execution was possible.\n",
      "\n",
      "To find out why, try turning on parallel diagnostics, see http://numba.pydata.org/numba-doc/latest/user/parallel.html#diagnostics for help.\n",
      "\n",
      "File \".venv/lib/python3.6/site-packages/umap/nndescent.py\", line 47:\n",
      "    @numba.njit(parallel=True)\n",
      "    def nn_descent(\n",
      "    ^\n",
      "\n",
      "  state.func_ir.loc))\n",
      "/home/wes/UMAP_experiments/.venv/lib/python3.6/site-packages/umap/spectral.py:229: UserWarning: Embedding a total of 2 separate connected components using meta-embedding (experimental)\n",
      "  n_components\n"
     ]
    },
    {
     "name": "stdout",
     "output_type": "stream",
     "text": [
      "CPU times: user 2h 3min 5s, sys: 3min 11s, total: 2h 6min 16s\n",
      "Wall time: 1h 33s\n",
      "======================================================================================\n",
      "      Num Pairs  Not found    Word2Vec Rho      UMAPed Rho word2vec/umap File name\n",
      "======================================================================================\n"
     ]
    },
    {
     "name": "stderr",
     "output_type": "stream",
     "text": [
      "/home/wes/UMAP_experiments/.venv/lib/python3.6/site-packages/numba/typed_passes.py:293: NumbaPerformanceWarning: \n",
      "The keyword argument 'parallel=True' was specified but no transformation for parallel execution was possible.\n",
      "\n",
      "To find out why, try turning on parallel diagnostics, see http://numba.pydata.org/numba-doc/latest/user/parallel.html#diagnostics for help.\n",
      "\n",
      "File \".venv/lib/python3.6/site-packages/umap/nndescent.py\", line 124:\n",
      "    @numba.njit(parallel=True)\n",
      "    def init_from_random(n_neighbors, data, query_points, heap, rng_state):\n",
      "    ^\n",
      "\n",
      "  state.func_ir.loc))\n",
      "/home/wes/UMAP_experiments/.venv/lib/python3.6/site-packages/numba/typed_passes.py:293: NumbaPerformanceWarning: \n",
      "The keyword argument 'parallel=True' was specified but no transformation for parallel execution was possible.\n",
      "\n",
      "To find out why, try turning on parallel diagnostics, see http://numba.pydata.org/numba-doc/latest/user/parallel.html#diagnostics for help.\n",
      "\n",
      "File \".venv/lib/python3.6/site-packages/umap/nndescent.py\", line 135:\n",
      "    @numba.njit(parallel=True)\n",
      "    def init_from_tree(tree, data, query_points, heap, rng_state):\n",
      "    ^\n",
      "\n",
      "  state.func_ir.loc))\n"
     ]
    },
    {
     "name": "stdout",
     "output_type": "stream",
     "text": [
      "            130          0          0.5590          0.0404          0.4515 EN-YP-130.txt\n",
      "             65          0          0.7498          0.2114          0.3327 EN-RG-65.txt\n",
      "            287         12          0.6453          0.3733          0.4704 EN-MTurk-287.txt\n",
      "            999          0          0.4420          0.1563          0.5255 EN-SIMLEX-999.txt\n",
      "            144          9          0.4929          0.0595          0.3171 EN-VERB-143.txt\n",
      "            252          2          0.6241          0.2218          0.3991 EN-WS-353-REL.txt\n",
      "           2034        209          0.4747          0.1723          0.4415 EN-RW-STANFORD.txt\n",
      "           3000         54          0.7610          0.4917          0.6783 EN-MEN-TR-3k.txt\n",
      "            353          3          0.6858          0.3309          0.5322 EN-WS-353-ALL.txt\n",
      "             30          0          0.7880          0.2366          0.4638 EN-MC-30.txt\n",
      "            771          0          0.6713          0.2089          0.4108 EN-MTurk-771.txt\n",
      "            203          1          0.7657          0.5139          0.6316 EN-WS-353-SIM.txt\n"
     ]
    }
   ],
   "source": [
    "import umap\n",
    "from collections import defaultdict\n",
    "\n",
    "dataset_results = defaultdict(list)\n",
    "\n",
    "fit10 = umap.UMAP(n_neighbors=15, random_state=42,n_components=10, metric='cosine')\n",
    "%time u10 = fit10.fit(train_data)\n",
    "run_word_sim (model,u10,dataset_results)\n",
    "\n",
    "fit30 = umap.UMAP(n_neighbors=15, random_state=42,n_components=30, metric='cosine')\n",
    "%time u30 = fit30.fit(train_data)\n",
    "run_word_sim (model,u30,dataset_results)\n",
    "fit50 = umap.UMAP(n_neighbors=15, random_state=42,n_components=50, metric='cosine')\n",
    "%time u50 = fit50.fit(train_data)\n",
    "run_word_sim (model,u50,dataset_results)\n",
    "\n",
    "fit100 = umap.UMAP(n_neighbors=15, random_state=42,n_components=100, metric='cosine')\n",
    "%time u100 = fit100.fit(train_data)\n",
    "run_word_sim (model,u100,dataset_results)\n",
    "\n",
    "fit150 = umap.UMAP(n_neighbors=15, random_state=42,n_components=150, metric='cosine')\n",
    "%time u150 = fit150.fit(train_data)\n",
    "run_word_sim (model,u150,dataset_results)\n",
    "\n",
    "\n"
   ]
  },
  {
   "cell_type": "code",
   "execution_count": 86,
   "metadata": {},
   "outputs": [
    {
     "data": {
      "image/png": "[encoded data removed]",
      "text/plain": [
       "<Figure size 432x288 with 1 Axes>"
      ]
     },
     "metadata": {},
     "output_type": "display_data"
    }
   ],
   "source": [
    " \n",
    "import matplotlib.pyplot as plt\n",
    "import seaborn as sns\n",
    "\n",
    "%matplotlib inline\n",
    "sns.set(style='white', rc={'figure.figsize':(6,4)})\n",
    " \n",
    "x=[10,30,50,100,150]\n",
    "\n",
    "files =[ 'EN-MC-30.txt','EN-MTurk-771.txt','EN-SIMLEX-999.txt','EN-WS-353-REL.txt',\n",
    "'EN-MEN-TR-3k.txt','EN-RG-65.txt','EN-VERB-143.txt','EN-WS-353-SIM.txt',\n",
    "'EN-MTurk-287.txt','EN-RW-STANFORD.txt','EN-WS-353-ALL.txt','EN-YP-130.txt']\n",
    "\n",
    "for f in files:\n",
    "    plt.scatter(x,dataset_results[f],s=20,label=f)\n",
    "    \n",
    "plt.legend(loc='upper center', bbox_to_anchor=(0.5, -0.05),\n",
    "          fancybox=True, shadow=True, ncol=4)\n",
    "\n",
    "plt.show()\n",
    "\n"
   ]
  }
 ],
 "metadata": {
  "kernelspec": {
   "display_name": "Python 3",
   "language": "python",
   "name": "python3"
  },
  "language_info": {
   "codemirror_mode": {
    "name": "ipython",
    "version": 3
   },
   "file_extension": ".py",
   "mimetype": "text/x-python",
   "name": "python",
   "nbconvert_exporter": "python",
   "pygments_lexer": "ipython3",
   "version": "3.6.9"
  }
 },
 "nbformat": 4,
 "nbformat_minor": 4
}
